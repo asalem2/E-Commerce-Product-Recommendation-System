{
  "nbformat": 4,
  "nbformat_minor": 0,
  "metadata": {
    "colab": {
      "provenance": [],
      "authorship_tag": "ABX9TyPQRDh/WxgmQ1/LNBeVm2vC",
      "include_colab_link": true
    },
    "kernelspec": {
      "name": "python3",
      "display_name": "Python 3"
    },
    "language_info": {
      "name": "python"
    }
  },
  "cells": [
    {
      "cell_type": "markdown",
      "metadata": {
        "id": "view-in-github",
        "colab_type": "text"
      },
      "source": [
        "<a href=\"https://colab.research.google.com/github/asalem2/E-Commerce-Product-Recommendation-System/blob/main/svd.ipynb\" target=\"_parent\"><img src=\"https://colab.research.google.com/assets/colab-badge.svg\" alt=\"Open In Colab\"/></a>"
      ]
    },
    {
      "cell_type": "code",
      "source": [
        "# Install library and dependencies\n",
        "!pip install scikit-learn pandas scipy --quiet\n",
        "\n",
        "import pandas as pd\n",
        "import numpy as np\n",
        "import random\n",
        "import time\n",
        "from scipy.sparse import coo_matrix\n",
        "from sklearn.decomposition import TruncatedSVD\n",
        "\n",
        "# 1) Load & filter the first 10 M rows\n",
        "t0 = time.time()\n",
        "df = pd.read_csv(\n",
        "    \"2020-Apr.csv.gz\",\n",
        "    compression=\"gzip\",\n",
        "    usecols=[\"user_id\",\"product_id\",\"event_type\"],\n",
        "    nrows=10_000_000,\n",
        "    low_memory=False\n",
        ")\n",
        "df = df[df[\"event_type\"].isin([\"view\",\"cart\",\"purchase\"])].reset_index(drop=True)\n",
        "print(f\"Load+filter: {time.time()-t0:.1f}s, rows={len(df):,}\")"
      ],
      "metadata": {
        "colab": {
          "base_uri": "https://localhost:8080/"
        },
        "id": "elWdpH5duUMQ",
        "outputId": "71a666f4-5f6c-4c8e-ad9d-cc34d7facb23"
      },
      "execution_count": 1,
      "outputs": [
        {
          "output_type": "stream",
          "name": "stdout",
          "text": [
            "Load+filter: 29.1s, rows=10,000,000\n"
          ]
        }
      ]
    },
    {
      "cell_type": "code",
      "source": [
        "# 2) Down-sample to 1/6 for speed\n",
        "df = df.sample(frac=1/6, random_state=42).reset_index(drop=True)\n",
        "print(f\"Sample size (1/6): {len(df):,}\")\n"
      ],
      "metadata": {
        "colab": {
          "base_uri": "https://localhost:8080/"
        },
        "id": "8kgHJCSURhNi",
        "outputId": "b51e6c6a-eaa9-4a64-c32c-fc01f6f57ae6"
      },
      "execution_count": 2,
      "outputs": [
        {
          "output_type": "stream",
          "name": "stdout",
          "text": [
            "Sample size (1/6): 1,666,667\n"
          ]
        }
      ]
    },
    {
      "cell_type": "code",
      "source": [
        "# 3) Encode to zero-based uidx/iidx\n",
        "df[\"uidx\"], users = pd.factorize(df[\"user_id\"])\n",
        "df[\"iidx\"], items = pd.factorize(df[\"product_id\"])\n",
        "n_users, n_items = len(users), len(items)\n",
        "print(f\"Users: {n_users:,}, Items: {n_items:,}\")\n"
      ],
      "metadata": {
        "colab": {
          "base_uri": "https://localhost:8080/"
        },
        "id": "7WQTRErqRhW4",
        "outputId": "e42daefa-4293-4b55-d15b-496701658789"
      },
      "execution_count": 3,
      "outputs": [
        {
          "output_type": "stream",
          "name": "stdout",
          "text": [
            "Users: 561,283, Items: 103,861\n"
          ]
        }
      ]
    },
    {
      "cell_type": "code",
      "source": [
        "# 4) Leave-one-out split\n",
        "np.random.seed(42)\n",
        "df[\"rand\"]  = np.random.rand(len(df))\n",
        "df[\"count\"] = df.groupby(\"uidx\")[\"uidx\"].transform(\"count\")\n",
        "holdouts   = df[df[\"count\"]>1].groupby(\"uidx\")[\"rand\"].idxmax()\n",
        "train_df   = df.drop(index=holdouts).copy()\n",
        "test_df    = df.loc[holdouts].copy()\n",
        "print(f\"Train rows: {len(train_df):,}, Test rows: {len(test_df):,}\")\n"
      ],
      "metadata": {
        "colab": {
          "base_uri": "https://localhost:8080/"
        },
        "id": "NXfWCLZARhl1",
        "outputId": "6d5ca0ac-c609-48b7-bc1c-1142937522e0"
      },
      "execution_count": 4,
      "outputs": [
        {
          "output_type": "stream",
          "name": "stdout",
          "text": [
            "Train rows: 1,368,460, Test rows: 298,207\n"
          ]
        }
      ]
    },
    {
      "cell_type": "code",
      "source": [
        "# 5) Build user×item sparse matrix\n",
        "rows = train_df[\"uidx\"].to_numpy()\n",
        "cols = train_df[\"iidx\"].to_numpy()\n",
        "data = np.ones(len(train_df), dtype=np.float32)\n",
        "ui_mat = coo_matrix((data, (rows, cols)), shape=(n_users, n_items)).tocsr()\n"
      ],
      "metadata": {
        "id": "B4Q9it5bRhuW"
      },
      "execution_count": 5,
      "outputs": []
    },
    {
      "cell_type": "code",
      "source": [
        "# 6) Fit Truncated SVD\n",
        "n_components = 32\n",
        "svd = TruncatedSVD(n_components=n_components, random_state=42)\n",
        "t0 = time.time()\n",
        "user_factors = svd.fit_transform(ui_mat)  # shape (n_users, 32)\n",
        "item_factors = svd.components_.T          # shape (n_items, 32)\n",
        "print(f\"SVD fit ({n_components} comps): {time.time()-t0:.1f}s\")\n"
      ],
      "metadata": {
        "colab": {
          "base_uri": "https://localhost:8080/"
        },
        "id": "8e6F-bIPRh2L",
        "outputId": "dbc4e7f2-f07f-4b87-ff86-405eb6444ad7"
      },
      "execution_count": 6,
      "outputs": [
        {
          "output_type": "stream",
          "name": "stdout",
          "text": [
            "SVD fit (32 comps): 36.6s\n"
          ]
        }
      ]
    },
    {
      "cell_type": "code",
      "source": [
        "# 7) Intersection-based sampling for evaluation\n",
        "train_users = set(train_df[\"uidx\"])\n",
        "test_users  = set(test_df[\"uidx\"])\n",
        "valid_users = list(train_users & test_users)\n",
        "sample_users = random.sample(valid_users, min(1000, len(valid_users)))\n",
        "print(f\"Evaluating on {len(sample_users)} users\")\n"
      ],
      "metadata": {
        "colab": {
          "base_uri": "https://localhost:8080/"
        },
        "id": "sT4KqtzPRh8m",
        "outputId": "2f7c2b7a-c00c-42be-9b45-5da4a1c77d33"
      },
      "execution_count": 7,
      "outputs": [
        {
          "output_type": "stream",
          "name": "stdout",
          "text": [
            "Evaluating on 1000 users\n"
          ]
        }
      ]
    },
    {
      "cell_type": "code",
      "source": [
        "# 8) Compute Precision@10 / Recall@10\n",
        "K = 10\n",
        "hits = 0\n",
        "for u in sample_users:\n",
        "    scores = user_factors[u].dot(item_factors.T)\n",
        "    seen   = set(ui_mat[u].indices)\n",
        "    scores[list(seen)] = -np.inf\n",
        "    top_k  = np.argpartition(-scores, K)[:K]\n",
        "    true_i = int(test_df.loc[test_df[\"uidx\"]==u, \"iidx\"].iloc[0])\n",
        "    hits  += int(true_i in top_k)\n",
        "\n",
        "precision = hits / (K * len(sample_users))\n",
        "recall    = hits / len(sample_users)\n",
        "print(f\"SVD Precision@{K}: {precision:.4f}\")\n",
        "print(f\"SVD Recall@{K}:    {recall:.4f}\")\n"
      ],
      "metadata": {
        "colab": {
          "base_uri": "https://localhost:8080/"
        },
        "id": "oMd0qPacRzrF",
        "outputId": "b015fcab-b6c6-4f90-ee32-3b40d2a8d1c2"
      },
      "execution_count": 8,
      "outputs": [
        {
          "output_type": "stream",
          "name": "stdout",
          "text": [
            "SVD Precision@10: 0.0043\n",
            "SVD Recall@10:    0.0430\n"
          ]
        }
      ]
    }
  ]
}